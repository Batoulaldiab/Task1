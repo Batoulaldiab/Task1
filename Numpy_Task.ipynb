{
  "nbformat": 4,
  "nbformat_minor": 0,
  "metadata": {
    "colab": {
      "provenance": []
    },
    "kernelspec": {
      "name": "python3",
      "display_name": "Python 3"
    },
    "language_info": {
      "name": "python"
    }
  },
  "cells": [
    {
      "cell_type": "code",
      "execution_count": null,
      "metadata": {
        "id": "tL1eGWHael7Y"
      },
      "outputs": [],
      "source": [
        "import numpy as np"
      ]
    },
    {
      "cell_type": "code",
      "source": [
        "import numpy as np\n",
        "\n",
        "# Create an array of 10 zeros\n",
        "zeros_array = np.zeros(10)\n",
        "\n",
        "# Print the array\n",
        "print(zeros_array)\n"
      ],
      "metadata": {
        "colab": {
          "base_uri": "https://localhost:8080/"
        },
        "id": "lz8_O0dOfe9N",
        "outputId": "277909e7-2a1b-484c-9ca2-9e773960b419"
      },
      "execution_count": null,
      "outputs": [
        {
          "output_type": "stream",
          "name": "stdout",
          "text": [
            "[0. 0. 0. 0. 0. 0. 0. 0. 0. 0.]\n"
          ]
        }
      ]
    },
    {
      "cell_type": "code",
      "source": [
        "import numpy as np\n",
        "\n",
        "# Create an array of 10 ones\n",
        "ones_array = np.ones(10)\n",
        "\n",
        "# Print the array\n",
        "print(ones_array)\n"
      ],
      "metadata": {
        "colab": {
          "base_uri": "https://localhost:8080/"
        },
        "id": "SyXicTEMft8c",
        "outputId": "64a08feb-fdb3-40b4-c92b-6a9bfe1360f1"
      },
      "execution_count": null,
      "outputs": [
        {
          "output_type": "stream",
          "name": "stdout",
          "text": [
            "[1. 1. 1. 1. 1. 1. 1. 1. 1. 1.]\n"
          ]
        }
      ]
    },
    {
      "cell_type": "code",
      "source": [
        "import numpy as np\n",
        "\n",
        "# Create an array of 10 fives\n",
        "fives_array = np.full(10, 5)\n",
        "\n",
        "# Print the array\n",
        "print(fives_array)\n"
      ],
      "metadata": {
        "colab": {
          "base_uri": "https://localhost:8080/"
        },
        "id": "t1t4oxDgf6Do",
        "outputId": "df83b074-c5d8-4190-8b2c-e2477decfb1e"
      },
      "execution_count": null,
      "outputs": [
        {
          "output_type": "stream",
          "name": "stdout",
          "text": [
            "[5 5 5 5 5 5 5 5 5 5]\n"
          ]
        }
      ]
    },
    {
      "cell_type": "code",
      "source": [
        "import numpy as np\n",
        "\n",
        "# Create an array of integers from 10 to 50 (inclusive)\n",
        "integers_array = np.arange(10, 51)\n",
        "\n",
        "# Print the array\n",
        "print(integers_array)\n"
      ],
      "metadata": {
        "colab": {
          "base_uri": "https://localhost:8080/"
        },
        "id": "lEJPk495gIdJ",
        "outputId": "fa8e16b0-bdc0-4564-b828-fcd00fea0462"
      },
      "execution_count": null,
      "outputs": [
        {
          "output_type": "stream",
          "name": "stdout",
          "text": [
            "[10 11 12 13 14 15 16 17 18 19 20 21 22 23 24 25 26 27 28 29 30 31 32 33\n",
            " 34 35 36 37 38 39 40 41 42 43 44 45 46 47 48 49 50]\n"
          ]
        }
      ]
    },
    {
      "cell_type": "code",
      "source": [
        "import numpy as np\n",
        "\n",
        "# Create an array of even integers from 10 to 50 (inclusive)\n",
        "even_integers = np.arange(10, 51, 2)\n",
        "\n",
        "# Print the array\n",
        "print(even_integers)\n"
      ],
      "metadata": {
        "colab": {
          "base_uri": "https://localhost:8080/"
        },
        "id": "SuTeH7yPgdWv",
        "outputId": "b274303a-287a-4f0e-d6e0-124f7bacf84a"
      },
      "execution_count": null,
      "outputs": [
        {
          "output_type": "stream",
          "name": "stdout",
          "text": [
            "[10 12 14 16 18 20 22 24 26 28 30 32 34 36 38 40 42 44 46 48 50]\n"
          ]
        }
      ]
    },
    {
      "cell_type": "code",
      "source": [
        "import numpy as np\n",
        "\n",
        "fives_array = np.full(10, 5)\n",
        "\n",
        "memory_size_bytes = fives_array.nbytes\n",
        "\n",
        "print(f\"Memory size of the array: {memory_size_bytes} bytes\")\n"
      ],
      "metadata": {
        "colab": {
          "base_uri": "https://localhost:8080/"
        },
        "id": "ClWR4QZBgxl0",
        "outputId": "b4624660-0255-49e6-b3d7-00d00c7f2f6c"
      },
      "execution_count": null,
      "outputs": [
        {
          "output_type": "stream",
          "name": "stdout",
          "text": [
            "Memory size of the array: 80 bytes\n"
          ]
        }
      ]
    },
    {
      "cell_type": "code",
      "source": [
        "import numpy as np\n",
        "\n",
        "# Method 1: Using np.arange and reshape\n",
        "\n",
        "# Create a 1D array with values from 0 to 8 (9 elements)\n",
        "arr = np.arange(9)\n",
        "\n",
        "# Reshape the 1D array into a 3x3 matrix\n",
        "matrix = arr.reshape(3, 3)\n",
        "\n",
        "# Method 2: Using np.linspace\n",
        "\n",
        "# Create evenly spaced values from 0 to 8 with 9 elements (including endpoints)\n",
        "values = np.linspace(0, 8, 9)\n",
        "\n",
        "# Reshape the 1D array into a 3x3 matrix\n",
        "matrix = values.reshape(3, 3)\n",
        "\n",
        "# Print the matrix\n",
        "print(matrix)\n"
      ],
      "metadata": {
        "colab": {
          "base_uri": "https://localhost:8080/"
        },
        "id": "SZfQgsrCiIRa",
        "outputId": "1ee7a3dd-c333-4632-af86-5a34784d6be8"
      },
      "execution_count": null,
      "outputs": [
        {
          "output_type": "stream",
          "name": "stdout",
          "text": [
            "[[0. 1. 2.]\n",
            " [3. 4. 5.]\n",
            " [6. 7. 8.]]\n"
          ]
        }
      ]
    },
    {
      "cell_type": "code",
      "source": [
        "import numpy as np\n",
        "\n",
        "# Create a 3x3 identity matrix using np.eye\n",
        "identity_matrix = np.eye(3)\n",
        "\n",
        "# Print the matrix\n",
        "print(identity_matrix)\n"
      ],
      "metadata": {
        "colab": {
          "base_uri": "https://localhost:8080/"
        },
        "id": "xmPMa78GiZuY",
        "outputId": "c5e45ba6-8e60-4238-a8a8-59f67e4daf5b"
      },
      "execution_count": null,
      "outputs": [
        {
          "output_type": "stream",
          "name": "stdout",
          "text": [
            "[[1. 0. 0.]\n",
            " [0. 1. 0.]\n",
            " [0. 0. 1.]]\n"
          ]
        }
      ]
    },
    {
      "cell_type": "code",
      "source": [
        "import numpy as np\n",
        "\n",
        "# Generate a random number between 0 and 1\n",
        "random_number = np.random.rand()\n",
        "\n",
        "# Print the random number\n",
        "print(random_number)\n"
      ],
      "metadata": {
        "colab": {
          "base_uri": "https://localhost:8080/"
        },
        "id": "MgStuJUUirj7",
        "outputId": "bd2b1d01-4b86-40fd-e693-c607a2eafba7"
      },
      "execution_count": null,
      "outputs": [
        {
          "output_type": "stream",
          "name": "stdout",
          "text": [
            "0.1128653221588446\n"
          ]
        }
      ]
    },
    {
      "cell_type": "code",
      "source": [
        "import numpy as np\n",
        "\n",
        "# Generate an array of 25 random numbers from standard normal distribution\n",
        "random_numbers = np.random.randn(25)\n",
        "\n",
        "# Print the array\n",
        "print(random_numbers)\n"
      ],
      "metadata": {
        "colab": {
          "base_uri": "https://localhost:8080/"
        },
        "id": "2AwLE5xmjVDR",
        "outputId": "78aaa73e-d020-45ee-b543-719323f68eeb"
      },
      "execution_count": null,
      "outputs": [
        {
          "output_type": "stream",
          "name": "stdout",
          "text": [
            "[-0.24453941 -1.84310831 -2.15273758  0.01659324  0.64080451 -0.01008968\n",
            " -1.27690216 -0.76349859  0.85606462  1.26379283 -0.31165158  1.50052011\n",
            "  0.67431069 -0.17933254  0.08613937 -0.49438852  0.52365136 -0.76839646\n",
            " -0.2368532  -1.18353536  0.40450003 -0.7915092   1.92651517 -0.57802909\n",
            "  1.61313876]\n"
          ]
        }
      ]
    },
    {
      "cell_type": "code",
      "source": [
        "import numpy as np\n",
        "\n",
        "rows = 10\n",
        "cols = 10\n",
        "\n",
        "matrix = np.zeros((rows, cols))\n",
        "\n",
        "for i in range(rows):\n",
        "  for j in range(cols):\n",
        "    matrix[i, j] = 0.01 + 0.01 * (i * cols + j)\n",
        "\n",
        "print(matrix)\n"
      ],
      "metadata": {
        "colab": {
          "base_uri": "https://localhost:8080/"
        },
        "id": "DKL_2eVuju1Y",
        "outputId": "2af2c571-f73b-4398-95f2-c49412cf5fb2"
      },
      "execution_count": null,
      "outputs": [
        {
          "output_type": "stream",
          "name": "stdout",
          "text": [
            "[[0.01 0.02 0.03 0.04 0.05 0.06 0.07 0.08 0.09 0.1 ]\n",
            " [0.11 0.12 0.13 0.14 0.15 0.16 0.17 0.18 0.19 0.2 ]\n",
            " [0.21 0.22 0.23 0.24 0.25 0.26 0.27 0.28 0.29 0.3 ]\n",
            " [0.31 0.32 0.33 0.34 0.35 0.36 0.37 0.38 0.39 0.4 ]\n",
            " [0.41 0.42 0.43 0.44 0.45 0.46 0.47 0.48 0.49 0.5 ]\n",
            " [0.51 0.52 0.53 0.54 0.55 0.56 0.57 0.58 0.59 0.6 ]\n",
            " [0.61 0.62 0.63 0.64 0.65 0.66 0.67 0.68 0.69 0.7 ]\n",
            " [0.71 0.72 0.73 0.74 0.75 0.76 0.77 0.78 0.79 0.8 ]\n",
            " [0.81 0.82 0.83 0.84 0.85 0.86 0.87 0.88 0.89 0.9 ]\n",
            " [0.91 0.92 0.93 0.94 0.95 0.96 0.97 0.98 0.99 1.  ]]\n"
          ]
        }
      ]
    },
    {
      "cell_type": "code",
      "source": [
        "import numpy as np\n",
        "\n",
        "# Number of points\n",
        "num_points = 20\n",
        "\n",
        "# Starting and ending points\n",
        "start = 0\n",
        "end = 1\n",
        "\n",
        "# Create linearly spaced points\n",
        "linear_spaced_points = np.linspace(start, end, num_points)\n",
        "\n",
        "# Print the array\n",
        "print(linear_spaced_points)\n"
      ],
      "metadata": {
        "colab": {
          "base_uri": "https://localhost:8080/"
        },
        "id": "QljvyxlRj78q",
        "outputId": "84bd4fce-1339-4b30-ba30-055a2db6ff3a"
      },
      "execution_count": null,
      "outputs": [
        {
          "output_type": "stream",
          "name": "stdout",
          "text": [
            "[0.         0.05263158 0.10526316 0.15789474 0.21052632 0.26315789\n",
            " 0.31578947 0.36842105 0.42105263 0.47368421 0.52631579 0.57894737\n",
            " 0.63157895 0.68421053 0.73684211 0.78947368 0.84210526 0.89473684\n",
            " 0.94736842 1.        ]\n"
          ]
        }
      ]
    },
    {
      "cell_type": "code",
      "source": [
        "import numpy as np\n",
        "\n",
        "mat = np.arange(1, 26).reshape(5, 5)\n",
        "print(mat)\n"
      ],
      "metadata": {
        "colab": {
          "base_uri": "https://localhost:8080/"
        },
        "id": "-R8J44XqlT-O",
        "outputId": "61d66eff-d679-45a9-aad0-ba9f9ac43838"
      },
      "execution_count": null,
      "outputs": [
        {
          "output_type": "stream",
          "name": "stdout",
          "text": [
            "[[ 1  2  3  4  5]\n",
            " [ 6  7  8  9 10]\n",
            " [11 12 13 14 15]\n",
            " [16 17 18 19 20]\n",
            " [21 22 23 24 25]]\n"
          ]
        }
      ]
    },
    {
      "cell_type": "code",
      "source": [
        "import numpy as np\n",
        "\n",
        "# تحديد المصفوفة الأصلية\n",
        "arr = np.arange(1, 26).reshape(5, 5)\n",
        "\n",
        "# استخراج الجزء السفلي الأيمن من المصفوفة\n",
        "sub_array = arr[2:5, 1:5]\n",
        "\n",
        "# طباعة المصفوفة الفرعية\n",
        "print(sub_array)\n"
      ],
      "metadata": {
        "colab": {
          "base_uri": "https://localhost:8080/"
        },
        "id": "u8n5umfplvpN",
        "outputId": "56dbedce-faa9-4595-eece-fa80a8e4e166"
      },
      "execution_count": null,
      "outputs": [
        {
          "output_type": "stream",
          "name": "stdout",
          "text": [
            "[[12 13 14 15]\n",
            " [17 18 19 20]\n",
            " [22 23 24 25]]\n"
          ]
        }
      ]
    },
    {
      "cell_type": "code",
      "source": [
        "import numpy as np\n",
        "\n",
        "# إنشاء المصفوفة الأساسية\n",
        "arr = np.arange(1, 26).reshape(5, 5)\n",
        "\n",
        "# تحديد موقع الرقم 20\n",
        "row_index = 3  # يبدأ الترقيم من 0\n",
        "column_index = 4\n",
        "\n",
        "# طباعة الرقم 20\n",
        "print(arr[row_index, column_index])\n"
      ],
      "metadata": {
        "colab": {
          "base_uri": "https://localhost:8080/"
        },
        "id": "qqNThERoU7Xi",
        "outputId": "50338770-905e-43e2-81ef-c0661aff6558"
      },
      "execution_count": null,
      "outputs": [
        {
          "output_type": "stream",
          "name": "stdout",
          "text": [
            "20\n"
          ]
        }
      ]
    },
    {
      "cell_type": "code",
      "source": [
        "import numpy as np\n",
        "\n",
        "# تحديد المصفوفة الأصلية\n",
        "arr = np.arange(1, 26).reshape(5, 5)\n",
        "\n",
        "# استخراج الجزء السفلي الأيمن من المصفوفة\n",
        "sub_array = arr[0:3, 1:2]\n",
        "\n",
        "# طباعة المصفوفة الفرعية\n",
        "print(sub_array)\n"
      ],
      "metadata": {
        "colab": {
          "base_uri": "https://localhost:8080/"
        },
        "id": "LnJXoo1RVXx2",
        "outputId": "cc94e31b-4e9f-411f-c530-e699cf360277"
      },
      "execution_count": null,
      "outputs": [
        {
          "output_type": "stream",
          "name": "stdout",
          "text": [
            "[[ 2]\n",
            " [ 7]\n",
            " [12]]\n"
          ]
        }
      ]
    },
    {
      "cell_type": "code",
      "source": [
        "import numpy as np\n",
        "\n",
        "# تحديد المصفوفة الأصلية\n",
        "arr = np.arange(1, 26).reshape(5, 5)\n",
        "\n",
        "# استخراج الجزء السفلي الأيمن من المصفوفة\n",
        "sub_array = arr[4:5, 0:5]\n",
        "\n",
        "# طباعة المصفوفة الفرعية\n",
        "print(sub_array)\n"
      ],
      "metadata": {
        "colab": {
          "base_uri": "https://localhost:8080/"
        },
        "id": "eDiWw83FZPUv",
        "outputId": "8851195d-3047-4526-ef3d-d803fac08e8f"
      },
      "execution_count": null,
      "outputs": [
        {
          "output_type": "stream",
          "name": "stdout",
          "text": [
            "[[21 22 23 24 25]]\n"
          ]
        }
      ]
    },
    {
      "cell_type": "code",
      "source": [
        "import numpy as np\n",
        "\n",
        "# Create a 5x5 matrix filled with numbers from 1 to 25 (reshape from a 1D array)\n",
        "mat = np.arange(1, 26).reshape(5, 5)\n",
        "\n",
        "\n",
        "# Get the sum of all the values in the matrix\n",
        "sum_of_all_values = mat.sum()\n",
        "\n",
        "# Print the sum\n",
        "print(\"Sum of all values in the matrix:\", sum_of_all_values)\n"
      ],
      "metadata": {
        "colab": {
          "base_uri": "https://localhost:8080/"
        },
        "id": "pgsvqmq7aCkG",
        "outputId": "1a117414-b33e-4fac-c139-f47b2fc40a8b"
      },
      "execution_count": 2,
      "outputs": [
        {
          "output_type": "stream",
          "name": "stdout",
          "text": [
            "Sum of all values in the matrix: 325\n"
          ]
        }
      ]
    },
    {
      "cell_type": "code",
      "source": [
        "import numpy as np\n",
        "\n",
        "# Create a 5x5 matrix filled with numbers from 1 to 25 (reshape from a 1D array)\n",
        "mat = np.arange(1, 26).reshape(5, 5)\n",
        "\n",
        "# Standard deviation of the matrix (all elements treated as a 1D array)\n",
        "std_dev = np.std(mat)\n",
        "\n",
        "# Print the standard deviation\n",
        "print(\"Standard deviation of all values in the matrix:\", std_dev)\n"
      ],
      "metadata": {
        "colab": {
          "base_uri": "https://localhost:8080/"
        },
        "id": "mOFgzQRsjf9d",
        "outputId": "0b05b605-ac14-4109-8863-d278edbd6e3a"
      },
      "execution_count": 3,
      "outputs": [
        {
          "output_type": "stream",
          "name": "stdout",
          "text": [
            "Standard deviation of all values in the matrix: 7.211102550927978\n"
          ]
        }
      ]
    },
    {
      "cell_type": "code",
      "source": [
        "import numpy as np\n",
        "\n",
        "# Create a 5x5 matrix filled with numbers from 1 to 25 (reshape from a 1D array)\n",
        "mat = np.arange(1, 26).reshape(5, 5)\n",
        "\n",
        "# Get the sum of all columns\n",
        "column_sums = mat.sum(axis=0)  # Sum along axis 0 (columns)\n",
        "\n",
        "# Print the column sums\n",
        "print(\"Sum of each column:\", column_sums)\n"
      ],
      "metadata": {
        "colab": {
          "base_uri": "https://localhost:8080/"
        },
        "id": "n4Zvyt7_kIME",
        "outputId": "4a1f2802-7542-4893-a5a5-72d3299c1f1c"
      },
      "execution_count": 4,
      "outputs": [
        {
          "output_type": "stream",
          "name": "stdout",
          "text": [
            "Sum of each column: [55 60 65 70 75]\n"
          ]
        }
      ]
    },
    {
      "cell_type": "code",
      "source": [
        "import numpy as np\n",
        "\n",
        "# Create a 10x10 matrix of zeros\n",
        "matrix = np.zeros((10, 10))\n",
        "\n",
        "# Set the border elements to 1\n",
        "matrix[0, :] = 1  # Top row\n",
        "matrix[-1, :] = 1  # Bottom row\n",
        "matrix[:, 0] = 1  # Left column\n",
        "matrix[:, -1] = 1  # Right column\n",
        "\n",
        "# Print the matrix\n",
        "print(matrix)\n"
      ],
      "metadata": {
        "colab": {
          "base_uri": "https://localhost:8080/"
        },
        "id": "fnfKrGZakYK-",
        "outputId": "9f83f074-8e96-4928-8dec-870ee96bfe2a"
      },
      "execution_count": 5,
      "outputs": [
        {
          "output_type": "stream",
          "name": "stdout",
          "text": [
            "[[1. 1. 1. 1. 1. 1. 1. 1. 1. 1.]\n",
            " [1. 0. 0. 0. 0. 0. 0. 0. 0. 1.]\n",
            " [1. 0. 0. 0. 0. 0. 0. 0. 0. 1.]\n",
            " [1. 0. 0. 0. 0. 0. 0. 0. 0. 1.]\n",
            " [1. 0. 0. 0. 0. 0. 0. 0. 0. 1.]\n",
            " [1. 0. 0. 0. 0. 0. 0. 0. 0. 1.]\n",
            " [1. 0. 0. 0. 0. 0. 0. 0. 0. 1.]\n",
            " [1. 0. 0. 0. 0. 0. 0. 0. 0. 1.]\n",
            " [1. 0. 0. 0. 0. 0. 0. 0. 0. 1.]\n",
            " [1. 1. 1. 1. 1. 1. 1. 1. 1. 1.]]\n"
          ]
        }
      ]
    },
    {
      "cell_type": "code",
      "source": [
        "import numpy as np\n",
        "\n",
        "# Define the arrays\n",
        "x1 = np.array([0, 2, 2, 2, 4, 5, 1, 4, 8, 5])\n",
        "x2 = np.array([2, 2, 3, 4, 7, 4, 6, 9, 4, 8])\n",
        "\n",
        "# Find common elements using intersection\n",
        "common_elements = np.intersect1d(x1, x2)\n",
        "\n",
        "# Print the common elements\n",
        "print(\"Common elements between x1 and x2:\", common_elements)\n"
      ],
      "metadata": {
        "colab": {
          "base_uri": "https://localhost:8080/"
        },
        "id": "emKh3dO2kpJm",
        "outputId": "af6d8908-c59e-4f3e-d444-4e59c6ade3de"
      },
      "execution_count": 6,
      "outputs": [
        {
          "output_type": "stream",
          "name": "stdout",
          "text": [
            "Common elements between x1 and x2: [2 4 8]\n"
          ]
        }
      ]
    },
    {
      "cell_type": "code",
      "source": [
        "import numpy as np\n",
        "\n",
        "x = np.array([[1 , 2, 3, 4], [5, 6, 7, 8], [9, 10, 11, 12]])\n",
        "\n",
        "flattened_x = x.flatten()  # Creates a copy and flattens\n",
        "print(flattened_x)  # Output: [ 1  2  3  4  5  6  7  8  9 10 11 12]\n",
        "\n"
      ],
      "metadata": {
        "colab": {
          "base_uri": "https://localhost:8080/"
        },
        "id": "c0vb8dxHk5lx",
        "outputId": "b569606f-9833-482a-a2a7-def6cfda9101"
      },
      "execution_count": 8,
      "outputs": [
        {
          "output_type": "stream",
          "name": "stdout",
          "text": [
            "[ 1  2  3  4  5  6  7  8  9 10 11 12]\n"
          ]
        }
      ]
    }
  ]
}