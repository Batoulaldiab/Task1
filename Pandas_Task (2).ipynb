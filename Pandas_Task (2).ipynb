{
  "cells": [
    {
      "cell_type": "code",
      "execution_count": null,
      "metadata": {
        "colab": {
          "background_save": true,
          "base_uri": "https://localhost:8080/",
          "height": 356
        },
        "id": "KBn4KDie8miv",
        "outputId": "1fb89e97-33fe-4b86-8b5c-75dcdd4c0cdd"
      },
      "outputs": [
        {
          "name": "stdout",
          "output_type": "stream",
          "text": [
            "Average BasePay: 69878.0839363012\n"
          ]
        }
      ],
      "source": [
        "import pandas as pd\n",
        "\n",
        "# Replace \"salary_data.csv\" with your actual file name\n",
        "data = pd.read_csv(\"/content/Salaries(exercise).csv\")\n",
        "average_base_pay = data[\"BasePay\"].mean()\n",
        "print(\"Average BasePay:\", average_base_pay)\n"
      ]
    },
    {
      "cell_type": "code",
      "source": [
        "import pandas as pd\n",
        "\n",
        "# Replace \"salary_data.csv\" with your actual file name\n",
        "data = pd.read_csv(\"/content/Salaries(exercise).csv\")\n",
        "highest_overtime_pay = data[\"OvertimePay\"].max()\n",
        "print(\"Highest Overtime Pay:\", highest_overtime_pay)\n"
      ],
      "metadata": {
        "colab": {
          "base_uri": "https://localhost:8080/"
        },
        "id": "mw8xAHPHCmGt",
        "outputId": "400e8eb3-5e28-4574-ef1d-5c0f5a9672eb"
      },
      "execution_count": null,
      "outputs": [
        {
          "output_type": "stream",
          "name": "stdout",
          "text": [
            "Highest Overtime Pay: 245131.88\n"
          ]
        }
      ]
    },
    {
      "cell_type": "code",
      "source": [
        "import pandas as pd\n",
        "\n",
        "# Replace \"salary_data.csv\" with your actual file name\n",
        "data = pd.read_csv(\"/content/Salaries(exercise).csv\")\n",
        "\n",
        "# Filter for JOSEPH DRISCOLL (case-sensitive) and get job title\n",
        "job_title = data[data['EmployeeName'] == 'JOSEPH DRISCOLL']['JobTitle'].values[0]\n",
        "\n",
        "print(\"Job Title:\", job_title)\n"
      ],
      "metadata": {
        "colab": {
          "base_uri": "https://localhost:8080/"
        },
        "id": "TAOvlboeC1nc",
        "outputId": "83ab6819-ed00-4eec-ee1a-e3e54be2f205"
      },
      "execution_count": null,
      "outputs": [
        {
          "output_type": "stream",
          "name": "stdout",
          "text": [
            "Job Title: CAPTAIN, FIRE SUPPRESSION\n"
          ]
        }
      ]
    },
    {
      "cell_type": "code",
      "source": [
        "import pandas as pd\n",
        "\n",
        "# Replace \"salary_data.csv\" with your actual file name\n",
        "data = pd.read_csv(\"/content/Salaries(exercise).csv\")\n",
        "\n",
        "\n",
        "# Filter for JOSEPH DRISCOLL (case-sensitive) and get total pay with benefits\n",
        "total_pay_benefits = data[data['EmployeeName'] == 'JOSEPH DRISCOLL']['TotalPayBenefits'].values[0]\n",
        "\n",
        "print(\"Total Pay (Including Benefits) for JOSEPH DRISCOLL:\", total_pay_benefits)\n",
        "\n"
      ],
      "metadata": {
        "colab": {
          "base_uri": "https://localhost:8080/"
        },
        "id": "zA1tw-WpD3KT",
        "outputId": "cd1f3273-0d6a-4fe6-bae0-96475e533b0a"
      },
      "execution_count": null,
      "outputs": [
        {
          "output_type": "stream",
          "name": "stdout",
          "text": [
            "Total Pay (Including Benefits) for JOSEPH DRISCOLL: 270324.91\n"
          ]
        }
      ]
    },
    {
      "cell_type": "code",
      "execution_count": null,
      "metadata": {
        "id": "pxjNwjIp-jkb"
      },
      "outputs": [],
      "source": [
        "from google.colab import drive\n",
        "drive.mount('/content/drive')"
      ]
    },
    {
      "cell_type": "markdown",
      "metadata": {
        "id": "QIHM2y2O9Yxt"
      },
      "source": [
        "# New Section"
      ]
    },
    {
      "cell_type": "code",
      "source": [
        "import pandas as pd\n",
        "\n",
        "# Replace \"salary_data.csv\" with your actual file name\n",
        "data = pd.read_csv(\"/content/Salaries(exercise).csv\")\n",
        "\n",
        "# Find row with highest TotalPayBenefits\n",
        "highest_paid_row = data[data['TotalPayBenefits'] == data['TotalPayBenefits'].max()]\n",
        "\n",
        "# Extract name from the row (assuming there's only one highest-paid person)\n",
        "highest_paid_name = highest_paid_row['EmployeeName'].values[0]\n",
        "\n",
        "print(\"Name of Highest Paid Person (Including Benefits):\", highest_paid_name)\n"
      ],
      "metadata": {
        "colab": {
          "base_uri": "https://localhost:8080/"
        },
        "id": "LleVsUi6FWdf",
        "outputId": "1865f87f-cd78-43ea-fe94-65176802091b"
      },
      "execution_count": null,
      "outputs": [
        {
          "output_type": "stream",
          "name": "stdout",
          "text": [
            "Name of Highest Paid Person (Including Benefits): NATHANIEL FORD\n"
          ]
        }
      ]
    },
    {
      "cell_type": "code",
      "source": [
        "import pandas as pd\n",
        "\n",
        "# Replace \"salary_data.csv\" with your actual file name\n",
        "data = pd.read_csv(\"/content/Salaries(exercise).csv\")\n",
        "\n",
        "# Find row with lowest TotalPayBenefits\n",
        "lowest_paid_row = data[data['TotalPayBenefits'] == data['TotalPayBenefits'].min()]\n",
        "\n",
        "# Extract name from the row (assuming there's only one lowest-paid person)\n",
        "lowest_paid_name = lowest_paid_row['EmployeeName'].values[0]\n",
        "lowest_pay_benefits = lowest_paid_row['TotalPayBenefits'].values[0]\n",
        "\n",
        "# Check for negative or zero total pay (assuming anomaly)\n",
        "is_anomaly = lowest_pay_benefits <= 0\n",
        "\n",
        "print(\"Name of Lowest Paid Person (Including Benefits):\", lowest_paid_name)\n",
        "if is_anomaly:\n",
        "    print(\"WARNING: The total pay for\", lowest_paid_name, \"is\", lowest_pay_benefits, \". This might be an anomaly. Please investigate further.\")\n",
        "else:\n",
        "    print(\"There seems to be no anomaly in the lowest total pay.\")\n"
      ],
      "metadata": {
        "colab": {
          "base_uri": "https://localhost:8080/"
        },
        "id": "zIj24Td0GNbi",
        "outputId": "20e8df9d-b68b-4919-f673-58dca626f814"
      },
      "execution_count": null,
      "outputs": [
        {
          "output_type": "stream",
          "name": "stdout",
          "text": [
            "Name of Lowest Paid Person (Including Benefits): Joe Lopez\n",
            "WARNING: The total pay for Joe Lopez is -618.13 . This might be an anomaly. Please investigate further.\n"
          ]
        }
      ]
    },
    {
      "cell_type": "code",
      "source": [
        "import pandas as pd\n",
        "\n",
        "# Replace \"salary_data.csv\" with your actual file name\n",
        "data = pd.read_csv(\"/content/Salaries(exercise).csv\")\n",
        "\n",
        "# Select data for years 2011-2014 (assuming a 'Year' column)\n",
        "data_filtered = data[data['Year'].isin([2011, 2012, 2013, 2014])]\n",
        "\n",
        "# Group by year and calculate average BasePay\n",
        "average_basepay_per_year = data_filtered.groupby('Year')['BasePay'].mean()\n",
        "\n",
        "# Print results (consider using a loop for better formatting)\n",
        "print(\"Average BasePay per Year (2011-2014):\")\n",
        "print(average_basepay_per_year)\n"
      ],
      "metadata": {
        "colab": {
          "base_uri": "https://localhost:8080/"
        },
        "id": "qG6DZ-R5Gds2",
        "outputId": "bb96cef5-d801-4d23-f6f8-282ec8625ac5"
      },
      "execution_count": null,
      "outputs": [
        {
          "output_type": "stream",
          "name": "stdout",
          "text": [
            "Average BasePay per Year (2011-2014):\n",
            "Year\n",
            "2011    63595.956517\n",
            "2012    65436.406857\n",
            "2013    69630.030216\n",
            "2014    66564.421924\n",
            "Name: BasePay, dtype: float64\n"
          ]
        }
      ]
    },
    {
      "cell_type": "code",
      "source": [
        "import pandas as pd\n",
        "\n",
        "# Replace \"salary_data.csv\" with your actual file name\n",
        "data = pd.read_csv(\"/content/Salaries(exercise).csv\")\n",
        "\n",
        "# Count unique job titles using nunique()\n",
        "unique_job_titles = data['JobTitle'].nunique()\n",
        "\n",
        "print(\"Number of Unique Job Titles:\", unique_job_titles)\n"
      ],
      "metadata": {
        "colab": {
          "base_uri": "https://localhost:8080/"
        },
        "id": "3C0M4BWBHOtP",
        "outputId": "efe6ef7d-2bbf-42da-abb6-1133674fb903"
      },
      "execution_count": null,
      "outputs": [
        {
          "output_type": "stream",
          "name": "stdout",
          "text": [
            "Number of Unique Job Titles: 2159\n"
          ]
        }
      ]
    },
    {
      "cell_type": "code",
      "source": [
        "import pandas as pd\n",
        "\n",
        "# Replace \"salary_data.csv\" with your actual file name\n",
        "data = pd.read_csv(\"/content/Salaries(exercise).csv\")\n",
        "\n",
        "\n",
        "# Create a Series with job title counts\n",
        "job_title_counts = data['JobTitle'].value_counts()\n",
        "\n",
        "# Get the top 5 most common job titles\n",
        "top_5_jobs = job_title_counts.nlargest(5)\n",
        "\n",
        "# Print the results (consider using enumerate for better formatting)\n",
        "print(\"Top 5 Most Common Jobs:\")\n",
        "print(top_5_jobs)\n"
      ],
      "metadata": {
        "colab": {
          "base_uri": "https://localhost:8080/"
        },
        "id": "nH3zrxrIHdOv",
        "outputId": "1a07e34a-c018-4b6f-9d75-c11c800112d8"
      },
      "execution_count": null,
      "outputs": [
        {
          "output_type": "stream",
          "name": "stdout",
          "text": [
            "Top 5 Most Common Jobs:\n",
            "Transit Operator                7036\n",
            "Special Nurse                   4389\n",
            "Registered Nurse                3736\n",
            "Public Svc Aide-Public Works    2518\n",
            "Police Officer 3                2421\n",
            "Name: JobTitle, dtype: int64\n"
          ]
        }
      ]
    },
    {
      "cell_type": "code",
      "source": [
        "import pandas as pd\n",
        "\n",
        "data = pd.read_csv(\"/content/Salaries(exercise).csv\")\n",
        "# Filter data for year 2013\n",
        "data_2013 = data[data['Year'] == 2013]\n",
        "\n",
        "# Count unique job titles with size 1 (one occurrence)\n",
        "unique_job_titles_2013 = (data_2013['JobTitle'].value_counts() == 1).sum()\n",
        "\n",
        "# Print the result\n",
        "print(\"Number of Job Titles Represented by One Person in 2013:\", unique_job_titles_2013)\n"
      ],
      "metadata": {
        "colab": {
          "base_uri": "https://localhost:8080/"
        },
        "id": "Ifs111MnHwKj",
        "outputId": "a9c2b5f8-9f2d-4c86-88ea-e4896bdc172f"
      },
      "execution_count": 3,
      "outputs": [
        {
          "output_type": "stream",
          "name": "stdout",
          "text": [
            "Number of Job Titles Represented by One Person in 2013: 202\n"
          ]
        }
      ]
    },
    {
      "cell_type": "code",
      "source": [
        "import pandas as pd\n",
        "\n",
        "# Load the CSV file\n",
        "df = pd.read_csv(\"/content/Salaries(exercise).csv\")\n",
        "\n",
        "# Assuming the column name is 'JobTitle'\n",
        "column = df['JobTitle']\n",
        "\n",
        "# Count the number of times the word \"Chief\" appears in each sentence\n",
        "counts = column.str.contains(\"Chief\").sum()\n",
        "\n",
        "# Print the number of occurrences of the word\n",
        "print(f\"The number of times the word 'Chief' appears is {counts}\")\n"
      ],
      "metadata": {
        "colab": {
          "base_uri": "https://localhost:8080/"
        },
        "id": "UAvFrctcUxSU",
        "outputId": "2a6f3557-2e05-4e1d-f1cd-dd1d4ad289cd"
      },
      "execution_count": 11,
      "outputs": [
        {
          "output_type": "stream",
          "name": "stdout",
          "text": [
            "The number of times the word 'Chief' appears is 423\n"
          ]
        }
      ]
    },
    {
      "cell_type": "code",
      "source": [
        "import pandas as pd\n",
        "import numpy as np\n",
        "\n",
        "# Load the CSV file\n",
        "df = pd.read_csv(\"/content/Salaries(exercise).csv\")\n",
        "\n",
        "# Assuming the column names are 'JobTitle' and 'Salary'\n",
        "job_titles = df['JobTitle']\n",
        "salaries = df['TotalPayBenefits']\n",
        "\n",
        "# Calculate the length of each job title\n",
        "job_title_lengths = [len(title) for title in job_titles]\n",
        "\n",
        "# Calculate the correlation coefficient between job title length and salary\n",
        "correlation = np.corrcoef(job_title_lengths, salaries)[0, 1]\n",
        "\n",
        "# Print the correlation coefficient\n",
        "print(f\"The correlation coefficient between job title length and salary is {correlation}\")\n"
      ],
      "metadata": {
        "colab": {
          "base_uri": "https://localhost:8080/"
        },
        "id": "ZMZN9LvwbvS9",
        "outputId": "1d7d1ece-31c0-475d-e975-fe0a653644e4"
      },
      "execution_count": 13,
      "outputs": [
        {
          "output_type": "stream",
          "name": "stdout",
          "text": [
            "The correlation coefficient between job title length and salary is -0.036878445932606675\n"
          ]
        }
      ]
    }
  ],
  "metadata": {
    "colab": {
      "provenance": []
    },
    "kernelspec": {
      "display_name": "Python 3",
      "name": "python3"
    },
    "language_info": {
      "name": "python"
    }
  },
  "nbformat": 4,
  "nbformat_minor": 0
}